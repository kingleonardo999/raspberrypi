{
 "cells": [
  {
   "metadata": {
    "ExecuteTime": {
     "end_time": "2025-01-09T10:51:54.666945Z",
     "start_time": "2025-01-09T10:51:50.372242Z"
    }
   },
   "cell_type": "code",
   "source": [
    "import ipywidgets as widgets\n",
    "from IPython.display import display\n",
    "import time\n",
    "from Smart_Car.camera import Camera\n"
   ],
   "id": "7ac78513-24a4-4447-8b92-9cde7b3b201a",
   "outputs": [
    {
     "name": "stderr",
     "output_type": "stream",
     "text": [
      "/home/asus/myenv/lib/python3.11/site-packages/albumentations/__init__.py:24: UserWarning: A new version of Albumentations is available: 2.0.0 (you have 1.4.24). Upgrade using: pip install -U albumentations. To disable automatic update checks, set the environment variable NO_ALBUMENTATIONS_UPDATE to 1.\n",
      "  check_for_updates()\n"
     ]
    }
   ],
   "execution_count": 1
  },
  {
   "metadata": {
    "ExecuteTime": {
     "end_time": "2025-01-09T04:10:07.494347Z",
     "start_time": "2025-01-09T04:10:07.388499Z"
    }
   },
   "cell_type": "code",
   "source": [
    "# 初始化摄像头\n",
    "cam = Camera(0)"
   ],
   "id": "9e6b4ecbc87a1aec",
   "outputs": [
    {
     "name": "stderr",
     "output_type": "stream",
     "text": [
      "[ WARN:0@2.537] global cap_v4l.cpp:999 open VIDEOIO(V4L2:/dev/video0): can't open camera by index\n",
      "[ERROR:0@2.538] global obsensor_uvc_stream_channel.cpp:158 getStreamChannelGroup Camera index out of range\n"
     ]
    },
    {
     "ename": "ValueError",
     "evalue": "无法打开摄像头，请检查摄像头索引或连接",
     "output_type": "error",
     "traceback": [
      "\u001B[0;31m---------------------------------------------------------------------------\u001B[0m",
      "\u001B[0;31mValueError\u001B[0m                                Traceback (most recent call last)",
      "Cell \u001B[0;32mIn[7], line 2\u001B[0m\n\u001B[1;32m      1\u001B[0m \u001B[38;5;66;03m# 初始化摄像头\u001B[39;00m\n\u001B[0;32m----> 2\u001B[0m cam \u001B[38;5;241m=\u001B[39m \u001B[43mCamera\u001B[49m\u001B[43m(\u001B[49m\u001B[38;5;241;43m0\u001B[39;49m\u001B[43m)\u001B[49m\n",
      "File \u001B[0;32m~/Project/Smart_Car/camera.py:14\u001B[0m, in \u001B[0;36mCamera.__init__\u001B[0;34m(self, src, queue_size)\u001B[0m\n\u001B[1;32m     12\u001B[0m \u001B[38;5;28mself\u001B[39m\u001B[38;5;241m.\u001B[39mcap \u001B[38;5;241m=\u001B[39m cv2\u001B[38;5;241m.\u001B[39mVideoCapture(src)  \u001B[38;5;66;03m# 打开摄像头\u001B[39;00m\n\u001B[1;32m     13\u001B[0m \u001B[38;5;28;01mif\u001B[39;00m \u001B[38;5;129;01mnot\u001B[39;00m \u001B[38;5;28mself\u001B[39m\u001B[38;5;241m.\u001B[39mcap\u001B[38;5;241m.\u001B[39misOpened():\n\u001B[0;32m---> 14\u001B[0m     \u001B[38;5;28;01mraise\u001B[39;00m \u001B[38;5;167;01mValueError\u001B[39;00m(\u001B[38;5;124m\"\u001B[39m\u001B[38;5;124m无法打开摄像头，请检查摄像头索引或连接\u001B[39m\u001B[38;5;124m\"\u001B[39m)\n\u001B[1;32m     15\u001B[0m \u001B[38;5;28mself\u001B[39m\u001B[38;5;241m.\u001B[39mcap\u001B[38;5;241m.\u001B[39mset(cv2\u001B[38;5;241m.\u001B[39mCAP_PROP_FRAME_WIDTH, \u001B[38;5;241m640\u001B[39m)\n\u001B[1;32m     16\u001B[0m \u001B[38;5;28mself\u001B[39m\u001B[38;5;241m.\u001B[39mcap\u001B[38;5;241m.\u001B[39mset(cv2\u001B[38;5;241m.\u001B[39mCAP_PROP_FRAME_HEIGHT, \u001B[38;5;241m480\u001B[39m)\n",
      "\u001B[0;31mValueError\u001B[0m: 无法打开摄像头，请检查摄像头索引或连接"
     ]
    }
   ],
   "execution_count": 7
  },
  {
   "metadata": {
    "ExecuteTime": {
     "end_time": "2025-01-09T04:10:07.495688Z",
     "start_time": "2025-01-09T04:10:07.495536Z"
    }
   },
   "cell_type": "code",
   "source": [
    "# 显示摄像头画面\n",
    "image_widget = widgets.Image(format='jpeg', width=640, height=480)\n",
    "display(image_widget)"
   ],
   "id": "bb1cff8adbd9754b",
   "outputs": [],
   "execution_count": null
  },
  {
   "metadata": {
    "ExecuteTime": {
     "end_time": "2025-01-09T04:10:07.496892Z",
     "start_time": "2025-01-09T04:10:07.496546Z"
    }
   },
   "cell_type": "code",
   "source": "cam.face_detect(Mode=1)  # 识别所有人脸",
   "id": "dac6f9d6472ae3e7",
   "outputs": [],
   "execution_count": null
  },
  {
   "metadata": {},
   "cell_type": "code",
   "outputs": [],
   "execution_count": null,
   "source": [
    "try:\n",
    "    while True:\n",
    "        frame = cam.read()\n",
    "        if frame is not None:\n",
    "            image_widget.value = frame  # 直接传递 JPEG 格式的字节数据\n",
    "        time.sleep(0.03)  # 控制帧的更新频率\n",
    "except KeyboardInterrupt:\n",
    "    print(\"Stopping...\")\n",
    "finally:\n",
    "    cam.stop()"
   ],
   "id": "a5c6240156798d8d"
  },
  {
   "metadata": {
    "ExecuteTime": {
     "end_time": "2025-01-09T04:09:26.466785Z",
     "start_time": "2025-01-09T04:09:26.463925Z"
    }
   },
   "cell_type": "code",
   "source": "a = 1",
   "id": "6be4b88bd5bc6bc2",
   "outputs": [],
   "execution_count": 1
  },
  {
   "metadata": {
    "ExecuteTime": {
     "end_time": "2025-01-09T04:09:27.991625Z",
     "start_time": "2025-01-09T04:09:27.989026Z"
    }
   },
   "cell_type": "code",
   "source": "b = 2",
   "id": "db80b23c6ce74854",
   "outputs": [],
   "execution_count": 2
  },
  {
   "metadata": {
    "ExecuteTime": {
     "end_time": "2025-01-09T04:09:48.249919Z",
     "start_time": "2025-01-09T04:09:48.245037Z"
    }
   },
   "cell_type": "code",
   "source": "a + b",
   "id": "404240fa3304675a",
   "outputs": [
    {
     "data": {
      "text/plain": [
       "3"
      ]
     },
     "execution_count": 5,
     "metadata": {},
     "output_type": "execute_result"
    }
   ],
   "execution_count": 5
  },
  {
   "metadata": {},
   "cell_type": "code",
   "outputs": [],
   "execution_count": null,
   "source": "",
   "id": "685502ebebc031ed"
  }
 ],
 "metadata": {
  "kernelspec": {
   "display_name": "Python (myenv)",
   "language": "python",
   "name": "myenv"
  },
  "language_info": {
   "codemirror_mode": {
    "name": "ipython",
    "version": 3
   },
   "file_extension": ".py",
   "mimetype": "text/x-python",
   "name": "python",
   "nbconvert_exporter": "python",
   "pygments_lexer": "ipython3",
   "version": "3.11.2"
  }
 },
 "nbformat": 4,
 "nbformat_minor": 5
}
