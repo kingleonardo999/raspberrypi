{
 "cells": [
  {
   "cell_type": "code",
   "execution_count": 1,
   "id": "c690ddc8-b7d3-4a54-a534-a0aea1d114c5",
   "metadata": {},
   "outputs": [
    {
     "name": "stdout",
     "output_type": "stream",
     "text": [
      "res10_300x300_ssd_iter_140000.caffemodel exists.\n",
      "deploy.prototxt exists.\n"
     ]
    },
    {
     "data": {
      "application/vnd.jupyter.widget-view+json": {
       "model_id": "964513743dfd4d838549b0aeba5a9719",
       "version_major": 2,
       "version_minor": 0
      },
      "text/plain": [
       "Image(value=b'', format='jpeg', height='480', width='640')"
      ]
     },
     "metadata": {},
     "output_type": "display_data"
    }
   ],
   "source": [
    "import os\n",
    "import cv2\n",
    "import ipywidgets.widgets as widgets\n",
    "import threading\n",
    "import time\n",
    "from IPython.display import display\n",
    "import numpy as np\n",
    "\n",
    "# 设置摄像头显示组件\n",
    "image_widget = widgets.Image(format='jpeg', width=640, height=480)\n",
    "\n",
    "# bgr8转jpeg格式\n",
    "def bgr8_to_jpeg(value, quality=75):\n",
    "    return bytes(cv2.imencode('.jpg', value)[1])\n",
    "\n",
    "# 打开摄像头\n",
    "cap = cv2.VideoCapture(0)\n",
    "\n",
    "# 检查摄像头是否成功打开\n",
    "if not cap.isOpened():\n",
    "    raise IOError(\"Cannot open webcam\")\n",
    "\n",
    "# 设置图像宽度和高度\n",
    "width = 640\n",
    "height = 480\n",
    "cap.set(cv2.CAP_PROP_FRAME_WIDTH, width)\n",
    "cap.set(cv2.CAP_PROP_FRAME_HEIGHT, height)\n",
    "\n",
    "# 设置工作目录为项目根目录\n",
    "os.chdir(r'/home/asus/Project/')\n",
    "\n",
    "# 加载预训练的SSD模型\n",
    "modelFile = \"res10_300x300_ssd_iter_140000.caffemodel\"\n",
    "configFile = \"deploy.prototxt\"\n",
    "\n",
    "# 检查文件是否存在\n",
    "if not os.path.exists(modelFile):\n",
    "    print(f\"Error: {modelFile} does not exist.\")\n",
    "else:\n",
    "    print(f\"{modelFile} exists.\")\n",
    "\n",
    "if not os.path.exists(configFile):\n",
    "    print(f\"Error: {configFile} does not exist.\")\n",
    "else:\n",
    "    print(f\"{configFile} exists.\")\n",
    "\n",
    "try:\n",
    "    net = cv2.dnn.readNetFromCaffe(configFile, modelFile)\n",
    "except Exception as e:\n",
    "    print(f\"Failed to load network: {e}\")\n",
    "    exit()\n",
    "\n",
    "def camera():\n",
    "    try:\n",
    "        display(image_widget)  # 显示摄像头组件\n",
    "        while True:\n",
    "            ret, frame = cap.read()\n",
    "            if not ret:\n",
    "                print(\"无法读取帧\")\n",
    "                break\n",
    "\n",
    "            # 获取图像的高度和宽度\n",
    "            h, w = frame.shape[:2]\n",
    "\n",
    "            # 创建一个blob对象\n",
    "            blob = cv2.dnn.blobFromImage(cv2.resize(frame, (300, 300)), 1.0, (300, 300), (104.0, 177.0, 123.0))\n",
    "\n",
    "            # 设置输入blob到网络\n",
    "            net.setInput(blob)\n",
    "\n",
    "            # 进行前向传播以获取预测结果\n",
    "            detections = net.forward()\n",
    "\n",
    "            # 遍历检测结果\n",
    "            for i in range(detections.shape[2]):\n",
    "                confidence = detections[0, 0, i, 2]\n",
    "\n",
    "                # 过滤掉低置信度的结果\n",
    "                if confidence > 0.5:\n",
    "                    box = detections[0, 0, i, 3:7] * np.array([w, h, w, h])\n",
    "                    (startX, startY, endX, endY) = box.astype(\"int\")\n",
    "\n",
    "                    # 绘制矩形框标记人脸\n",
    "                    cv2.rectangle(frame, (startX, startY), (endX, endY), (0, 0, 255), 2)\n",
    "\n",
    "            # 更新图像组件\n",
    "            image_widget.value = bgr8_to_jpeg(frame)\n",
    "            time.sleep(0.1)\n",
    "    except KeyboardInterrupt:\n",
    "        print(\"程序关闭！\")\n",
    "        cap.release()\n",
    "\n",
    "# 创建并启动线程\n",
    "camera_thread = threading.Thread(target=camera)\n",
    "camera_thread.start()"
   ]
  },
  {
   "cell_type": "code",
   "execution_count": null,
   "id": "168399a5-ec09-4840-8cba-2eb24343b631",
   "metadata": {},
   "outputs": [],
   "source": []
  }
 ],
 "metadata": {
  "kernelspec": {
   "display_name": "Python 3 (ipykernel)",
   "language": "python",
   "name": "python3"
  },
  "language_info": {
   "codemirror_mode": {
    "name": "ipython",
    "version": 3
   },
   "file_extension": ".py",
   "mimetype": "text/x-python",
   "name": "python",
   "nbconvert_exporter": "python",
   "pygments_lexer": "ipython3",
   "version": "3.11.2"
  }
 },
 "nbformat": 4,
 "nbformat_minor": 5
}
