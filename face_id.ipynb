{
 "cells": [
  {
   "cell_type": "code",
   "id": "0c213c4c-4e0c-48a4-af40-0ad83b129f07",
   "metadata": {
    "ExecuteTime": {
     "end_time": "2025-01-08T10:04:04.784199Z",
     "start_time": "2025-01-08T10:02:39.433039Z"
    }
   },
   "source": [
    "import cv2\n",
    "import os\n",
    "import pickle\n",
    "from insightface.app import FaceAnalysis\n",
    "from scipy.spatial.distance import cosine\n",
    "import numpy as np\n",
    "import threading\n",
    "from IPython.display import display\n",
    "import ipywidgets as widgets\n",
    "import time\n",
    "import warnings\n",
    "# 抑制检测albumentations的版本警告信息\n",
    "warnings.filterwarnings(\"ignore\", category=UserWarning, module=\"albumentations\")\n",
    "\n",
    "# Initialize InsightFace application\n",
    "app = FaceAnalysis(providers=['CPUExecutionProvider'])  # 仅使用 CPU\n",
    "app.prepare(ctx_id=0, det_size=(320, 320))  # Lower resolution for faster processing\n",
    "\n",
    "# Path to load known face encodings and names\n",
    "encodings_file_path = \"./face_features/known_face_encodings.pkl\"\n",
    "names_file_path = \"./face_features/known_face_names.pkl\"\n",
    "\n",
    "# Load known face encodings and names from file if they exist\n",
    "if os.path.exists(encodings_file_path) and os.path.exists(names_file_path):\n",
    "    with open(encodings_file_path, 'rb') as f:\n",
    "        known_face_encodings = pickle.load(f)\n",
    "    with open(names_file_path, 'rb') as f:\n",
    "        known_face_names = pickle.load(f)\n",
    "else:\n",
    "    raise FileNotFoundError(\"The files known_face_encodings.pkl and known_face_names.pkl do not exist in ./face_features directory.\")\n",
    "\n",
    "# Initialize the camera\n",
    "video_capture = cv2.VideoCapture(0)\n",
    "video_capture.set(cv2.CAP_PROP_FRAME_WIDTH, 640)\n",
    "video_capture.set(cv2.CAP_PROP_FRAME_HEIGHT, 480)\n",
    "video_capture.set(cv2.CAP_PROP_FPS, 15)  # Set frame rate to 15 fps\n",
    "\n",
    "frame_lock = threading.Lock()\n",
    "latest_frame = None\n",
    "detected_faces = []\n",
    "\n",
    "def capture_frames():\n",
    "    global latest_frame\n",
    "    while True:\n",
    "        ret, frame = video_capture.read()\n",
    "        if not ret:\n",
    "            break\n",
    "        with frame_lock:\n",
    "            latest_frame = frame.copy()\n",
    "\n",
    "capture_thread = threading.Thread(target=capture_frames)\n",
    "capture_thread.daemon = True\n",
    "capture_thread.start()\n",
    "\n",
    "def match_faces(frame):\n",
    "    global detected_faces\n",
    "    faces = app.get(frame)\n",
    "    matched_faces = []\n",
    "    for face in faces:\n",
    "        embedding = face.embedding\n",
    "        name = \"Unknown\"\n",
    "\n",
    "        # Calculate similarity with known faces\n",
    "        similarities = [1 - cosine(embedding, known_face) for known_face in known_face_encodings]\n",
    "        if similarities:\n",
    "            best_match_index = similarities.index(max(similarities))\n",
    "            if similarities[best_match_index] > 0.6:  # Set a similarity threshold\n",
    "                name = known_face_names[best_match_index]\n",
    "\n",
    "        # Store the face information for drawing later\n",
    "        matched_faces.append({\n",
    "            'bbox': face.bbox.astype(int),\n",
    "            'name': name\n",
    "        })\n",
    "    detected_faces = matched_faces\n",
    "\n",
    "# 使用 ipywidgets 显示视频流\n",
    "image_widget = widgets.Image(format='jpeg')\n",
    "display(image_widget)\n",
    "\n",
    "try:\n",
    "    while True:\n",
    "        with frame_lock:\n",
    "            frame = latest_frame.copy() if latest_frame is not None else None\n",
    "\n",
    "        if frame is None:\n",
    "            continue\n",
    "\n",
    "        # Match faces in a separate thread\n",
    "        matching_thread = threading.Thread(target=match_faces, args=(frame,))\n",
    "        matching_thread.start()\n",
    "        matching_thread.join()\n",
    "\n",
    "        # Draw detected faces on the frame\n",
    "        for face_info in detected_faces:\n",
    "            box = face_info['bbox']\n",
    "            name = face_info['name']\n",
    "\n",
    "            # Draw a rectangle around the face\n",
    "            cv2.rectangle(frame, (box[0], box[1]), (box[2], box[3]), (0, 0, 255), 2)\n",
    "\n",
    "            # Draw a label\n",
    "            cv2.rectangle(frame, (box[0], box[3] - 35), (box[2], box[3]), (0, 0, 255), cv2.FILLED)\n",
    "            font = cv2.FONT_HERSHEY_DUPLEX\n",
    "            cv2.putText(frame, name, (box[0] + 6, box[3] - 6), font, 1.0, (255, 255, 255), 1)\n",
    "\n",
    "        # 将帧转换为 JPEG 格式并更新 widget\n",
    "        _, jpeg_frame = cv2.imencode('.jpg', frame)\n",
    "        image_widget.value = jpeg_frame.tobytes()\n",
    "\n",
    "        # 添加延迟，减少刷新频率\n",
    "        time.sleep(0.05)\n",
    "\n",
    "except KeyboardInterrupt:\n",
    "    print(\"Stopping...\")\n",
    "\n",
    "# Release the camera and close all windows\n",
    "video_capture.release()"
   ],
   "outputs": [
    {
     "name": "stdout",
     "output_type": "stream",
     "text": [
      "Applied providers: ['CPUExecutionProvider'], with options: {'CPUExecutionProvider': {}}\n",
      "find model: /home/asus/.insightface/models/buffalo_l/1k3d68.onnx landmark_3d_68 ['None', 3, 192, 192] 0.0 1.0\n",
      "Applied providers: ['CPUExecutionProvider'], with options: {'CPUExecutionProvider': {}}\n",
      "find model: /home/asus/.insightface/models/buffalo_l/2d106det.onnx landmark_2d_106 ['None', 3, 192, 192] 0.0 1.0\n",
      "Applied providers: ['CPUExecutionProvider'], with options: {'CPUExecutionProvider': {}}\n",
      "find model: /home/asus/.insightface/models/buffalo_l/det_10g.onnx detection [1, 3, '?', '?'] 127.5 128.0\n",
      "Applied providers: ['CPUExecutionProvider'], with options: {'CPUExecutionProvider': {}}\n",
      "find model: /home/asus/.insightface/models/buffalo_l/genderage.onnx genderage ['None', 3, 96, 96] 0.0 1.0\n",
      "Applied providers: ['CPUExecutionProvider'], with options: {'CPUExecutionProvider': {}}\n",
      "find model: /home/asus/.insightface/models/buffalo_l/w600k_r50.onnx recognition ['None', 3, 112, 112] 127.5 127.5\n",
      "set det-size: (320, 320)\n"
     ]
    },
    {
     "data": {
      "text/plain": [
       "Image(value=b'', format='jpeg')"
      ],
      "application/vnd.jupyter.widget-view+json": {
       "version_major": 2,
       "version_minor": 0,
       "model_id": "359666c3c282481a8d7247c6b524d629"
      }
     },
     "metadata": {},
     "output_type": "display_data"
    },
    {
     "name": "stdout",
     "output_type": "stream",
     "text": [
      "Stopping...\n"
     ]
    }
   ],
   "execution_count": 1
  },
  {
   "cell_type": "code",
   "execution_count": null,
   "id": "a1e5f6cc-c8ac-4c1c-8cbe-ebe6d678372a",
   "metadata": {},
   "outputs": [],
   "source": []
  }
 ],
 "metadata": {
  "kernelspec": {
   "display_name": "Python (myenv)",
   "language": "python",
   "name": "myenv"
  },
  "language_info": {
   "codemirror_mode": {
    "name": "ipython",
    "version": 3
   },
   "file_extension": ".py",
   "mimetype": "text/x-python",
   "name": "python",
   "nbconvert_exporter": "python",
   "pygments_lexer": "ipython3",
   "version": "3.11.2"
  }
 },
 "nbformat": 4,
 "nbformat_minor": 5
}
