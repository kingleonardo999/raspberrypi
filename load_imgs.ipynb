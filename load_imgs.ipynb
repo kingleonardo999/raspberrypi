{
 "cells": [
  {
   "cell_type": "code",
   "execution_count": 3,
   "id": "46e115da-8d6e-4e66-89d3-266494fc8cbd",
   "metadata": {},
   "outputs": [
    {
     "name": "stdout",
     "output_type": "stream",
     "text": [
      "Applied providers: ['CPUExecutionProvider'], with options: {'CPUExecutionProvider': {}}\n",
      "find model: /home/asus/.insightface/models/buffalo_l/1k3d68.onnx landmark_3d_68 ['None', 3, 192, 192] 0.0 1.0\n",
      "Applied providers: ['CPUExecutionProvider'], with options: {'CPUExecutionProvider': {}}\n",
      "find model: /home/asus/.insightface/models/buffalo_l/2d106det.onnx landmark_2d_106 ['None', 3, 192, 192] 0.0 1.0\n",
      "Applied providers: ['CPUExecutionProvider'], with options: {'CPUExecutionProvider': {}}\n",
      "find model: /home/asus/.insightface/models/buffalo_l/det_10g.onnx detection [1, 3, '?', '?'] 127.5 128.0\n",
      "Applied providers: ['CPUExecutionProvider'], with options: {'CPUExecutionProvider': {}}\n",
      "find model: /home/asus/.insightface/models/buffalo_l/genderage.onnx genderage ['None', 3, 96, 96] 0.0 1.0\n",
      "Applied providers: ['CPUExecutionProvider'], with options: {'CPUExecutionProvider': {}}\n",
      "find model: /home/asus/.insightface/models/buffalo_l/w600k_r50.onnx recognition ['None', 3, 112, 112] 127.5 127.5\n",
      "set det-size: (320, 320)\n",
      "Saved 2 face embeddings to face_features\n"
     ]
    }
   ],
   "source": [
    "import os\n",
    "import cv2\n",
    "import pickle\n",
    "from insightface.app import FaceAnalysis\n",
    "\n",
    "# Initialize InsightFace application\n",
    "app = FaceAnalysis(providers=['CPUExecutionProvider'])\n",
    "app.prepare(ctx_id=0, det_size=(320, 320))  # Lower resolution for faster processing\n",
    "\n",
    "def extract_face_features(image_path):\n",
    "    img = cv2.imread(image_path)\n",
    "    faces = app.get(img)\n",
    "    if faces:\n",
    "        return faces[0].embedding\n",
    "    return None\n",
    "\n",
    "def save_embeddings_to_file(embeddings, names, output_folder):\n",
    "    if not os.path.exists(output_folder):\n",
    "        os.makedirs(output_folder)\n",
    "\n",
    "    encodings_file_path = os.path.join(output_folder, \"known_face_encodings.pkl\")\n",
    "    names_file_path = os.path.join(output_folder, \"known_face_names.pkl\")\n",
    "\n",
    "    with open(encodings_file_path, 'wb') as f:\n",
    "        pickle.dump(embeddings, f)\n",
    "    with open(names_file_path, 'wb') as f:\n",
    "        pickle.dump(names, f)\n",
    "\n",
    "def main():\n",
    "    known_people_dir = \"known_people\"\n",
    "    output_folder = \"face_features\"\n",
    "\n",
    "    known_face_encodings = []\n",
    "    known_face_names = []\n",
    "\n",
    "    for filename in os.listdir(known_people_dir):\n",
    "        if filename.endswith(\".jpg\") or filename.endswith(\".png\"):\n",
    "            img_path = os.path.join(known_people_dir, filename)\n",
    "            embedding = extract_face_features(img_path)\n",
    "            if embedding is not None:\n",
    "                known_face_encodings.append(embedding)\n",
    "                known_face_names.append(filename.split('.')[0])  # Assume the filename is the person's name\n",
    "\n",
    "    save_embeddings_to_file(known_face_encodings, known_face_names, output_folder)\n",
    "    print(f\"Saved {len(known_face_encodings)} face embeddings to {output_folder}\")\n",
    "\n",
    "if __name__ == \"__main__\":\n",
    "    main()"
   ]
  },
  {
   "cell_type": "code",
   "execution_count": null,
   "id": "8b93bd0b-33d8-4a52-9b6e-cf89c855e14f",
   "metadata": {},
   "outputs": [],
   "source": []
  }
 ],
 "metadata": {
  "kernelspec": {
   "display_name": "Python (myenv)",
   "language": "python",
   "name": "myenv"
  },
  "language_info": {
   "codemirror_mode": {
    "name": "ipython",
    "version": 3
   },
   "file_extension": ".py",
   "mimetype": "text/x-python",
   "name": "python",
   "nbconvert_exporter": "python",
   "pygments_lexer": "ipython3",
   "version": "3.11.2"
  }
 },
 "nbformat": 4,
 "nbformat_minor": 5
}
